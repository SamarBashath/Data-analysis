{
 "cells": [
  {
   "cell_type": "markdown",
   "metadata": {},
   "source": [
    "Here in this tutorial, we are focus on analyzing and visualizing the students data set using "
   ]
  },
  {
   "cell_type": "markdown",
   "metadata": {},
   "source": [
    "### Load Packages\n"
   ]
  },
  {
   "cell_type": "code",
   "execution_count": 1,
   "metadata": {},
   "outputs": [
    {
     "name": "stderr",
     "output_type": "stream",
     "text": [
      "Warning message:\n",
      "\"package 'tidyverse' was built under R version 3.6.3\"-- Attaching packages --------------------------------------- tidyverse 1.3.0 --\n",
      "v ggplot2 3.3.1     v purrr   0.3.3\n",
      "v tibble  3.0.1     v dplyr   1.0.0\n",
      "v tidyr   1.0.2     v stringr 1.4.0\n",
      "v readr   1.3.1     v forcats 0.5.0\n",
      "Warning message:\n",
      "\"package 'ggplot2' was built under R version 3.6.3\"Warning message:\n",
      "\"package 'tibble' was built under R version 3.6.3\"Warning message:\n",
      "\"package 'tidyr' was built under R version 3.6.2\"Warning message:\n",
      "\"package 'readr' was built under R version 3.6.3\"Warning message:\n",
      "\"package 'purrr' was built under R version 3.6.2\"Warning message:\n",
      "\"package 'dplyr' was built under R version 3.6.2\"Warning message:\n",
      "\"package 'stringr' was built under R version 3.6.2\"Warning message:\n",
      "\"package 'forcats' was built under R version 3.6.3\"-- Conflicts ------------------------------------------ tidyverse_conflicts() --\n",
      "x dplyr::filter() masks stats::filter()\n",
      "x dplyr::lag()    masks stats::lag()\n"
     ]
    }
   ],
   "source": [
    "library(tidyverse)\n",
    "library(ggplot2)\n",
    "library(dplyr)"
   ]
  },
  {
   "cell_type": "markdown",
   "metadata": {},
   "source": [
    "The data set could find it in this link\n",
    "https://archive.ics.uci.edu/ml/datasets/Student+Performance\n"
   ]
  },
  {
   "cell_type": "code",
   "execution_count": 2,
   "metadata": {},
   "outputs": [],
   "source": [
    "student<-read.csv(\"student-mat.csv\",sep=\";\",header=TRUE)\n"
   ]
  },
  {
   "cell_type": "code",
   "execution_count": 8,
   "metadata": {},
   "outputs": [
    {
     "data": {
      "text/html": [
       "<table>\n",
       "<thead><tr><th scope=col>school</th><th scope=col>sex</th><th scope=col>age</th><th scope=col>address</th><th scope=col>famsize</th><th scope=col>Pstatus</th><th scope=col>Medu</th><th scope=col>Fedu</th><th scope=col>Mjob</th><th scope=col>Fjob</th><th scope=col>...</th><th scope=col>famrel</th><th scope=col>freetime</th><th scope=col>goout</th><th scope=col>Dalc</th><th scope=col>Walc</th><th scope=col>health</th><th scope=col>absences</th><th scope=col>G1</th><th scope=col>G2</th><th scope=col>G3</th></tr></thead>\n",
       "<tbody>\n",
       "\t<tr><td>GP      </td><td>F       </td><td>18      </td><td>U       </td><td>GT3     </td><td>A       </td><td>4       </td><td>4       </td><td>at_home </td><td>teacher </td><td>...     </td><td>4       </td><td>3       </td><td>4       </td><td>1       </td><td>1       </td><td>3       </td><td> 6      </td><td> 5      </td><td> 6      </td><td> 6      </td></tr>\n",
       "\t<tr><td>GP      </td><td>F       </td><td>17      </td><td>U       </td><td>GT3     </td><td>T       </td><td>1       </td><td>1       </td><td>at_home </td><td>other   </td><td>...     </td><td>5       </td><td>3       </td><td>3       </td><td>1       </td><td>1       </td><td>3       </td><td> 4      </td><td> 5      </td><td> 5      </td><td> 6      </td></tr>\n",
       "\t<tr><td>GP      </td><td>F       </td><td>15      </td><td>U       </td><td>LE3     </td><td>T       </td><td>1       </td><td>1       </td><td>at_home </td><td>other   </td><td>...     </td><td>4       </td><td>3       </td><td>2       </td><td>2       </td><td>3       </td><td>3       </td><td>10      </td><td> 7      </td><td> 8      </td><td>10      </td></tr>\n",
       "\t<tr><td>GP      </td><td>F       </td><td>15      </td><td>U       </td><td>GT3     </td><td>T       </td><td>4       </td><td>2       </td><td>health  </td><td>services</td><td>...     </td><td>3       </td><td>2       </td><td>2       </td><td>1       </td><td>1       </td><td>5       </td><td> 2      </td><td>15      </td><td>14      </td><td>15      </td></tr>\n",
       "\t<tr><td>GP      </td><td>F       </td><td>16      </td><td>U       </td><td>GT3     </td><td>T       </td><td>3       </td><td>3       </td><td>other   </td><td>other   </td><td>...     </td><td>4       </td><td>3       </td><td>2       </td><td>1       </td><td>2       </td><td>5       </td><td> 4      </td><td> 6      </td><td>10      </td><td>10      </td></tr>\n",
       "\t<tr><td>GP      </td><td>M       </td><td>16      </td><td>U       </td><td>LE3     </td><td>T       </td><td>4       </td><td>3       </td><td>services</td><td>other   </td><td>...     </td><td>5       </td><td>4       </td><td>2       </td><td>1       </td><td>2       </td><td>5       </td><td>10      </td><td>15      </td><td>15      </td><td>15      </td></tr>\n",
       "</tbody>\n",
       "</table>\n"
      ],
      "text/latex": [
       "\\begin{tabular}{r|lllllllllllllllllllllllllllllllll}\n",
       " school & sex & age & address & famsize & Pstatus & Medu & Fedu & Mjob & Fjob & ... & famrel & freetime & goout & Dalc & Walc & health & absences & G1 & G2 & G3\\\\\n",
       "\\hline\n",
       "\t GP         & F          & 18         & U          & GT3        & A          & 4          & 4          & at\\_home  & teacher    & ...        & 4          & 3          & 4          & 1          & 1          & 3          &  6         &  5         &  6         &  6        \\\\\n",
       "\t GP         & F          & 17         & U          & GT3        & T          & 1          & 1          & at\\_home  & other      & ...        & 5          & 3          & 3          & 1          & 1          & 3          &  4         &  5         &  5         &  6        \\\\\n",
       "\t GP         & F          & 15         & U          & LE3        & T          & 1          & 1          & at\\_home  & other      & ...        & 4          & 3          & 2          & 2          & 3          & 3          & 10         &  7         &  8         & 10        \\\\\n",
       "\t GP       & F        & 15       & U        & GT3      & T        & 4        & 2        & health   & services & ...      & 3        & 2        & 2        & 1        & 1        & 5        &  2       & 15       & 14       & 15      \\\\\n",
       "\t GP       & F        & 16       & U        & GT3      & T        & 3        & 3        & other    & other    & ...      & 4        & 3        & 2        & 1        & 2        & 5        &  4       &  6       & 10       & 10      \\\\\n",
       "\t GP       & M        & 16       & U        & LE3      & T        & 4        & 3        & services & other    & ...      & 5        & 4        & 2        & 1        & 2        & 5        & 10       & 15       & 15       & 15      \\\\\n",
       "\\end{tabular}\n"
      ],
      "text/markdown": [
       "\n",
       "| school | sex | age | address | famsize | Pstatus | Medu | Fedu | Mjob | Fjob | ... | famrel | freetime | goout | Dalc | Walc | health | absences | G1 | G2 | G3 |\n",
       "|---|---|---|---|---|---|---|---|---|---|---|---|---|---|---|---|---|---|---|---|---|\n",
       "| GP       | F        | 18       | U        | GT3      | A        | 4        | 4        | at_home  | teacher  | ...      | 4        | 3        | 4        | 1        | 1        | 3        |  6       |  5       |  6       |  6       |\n",
       "| GP       | F        | 17       | U        | GT3      | T        | 1        | 1        | at_home  | other    | ...      | 5        | 3        | 3        | 1        | 1        | 3        |  4       |  5       |  5       |  6       |\n",
       "| GP       | F        | 15       | U        | LE3      | T        | 1        | 1        | at_home  | other    | ...      | 4        | 3        | 2        | 2        | 3        | 3        | 10       |  7       |  8       | 10       |\n",
       "| GP       | F        | 15       | U        | GT3      | T        | 4        | 2        | health   | services | ...      | 3        | 2        | 2        | 1        | 1        | 5        |  2       | 15       | 14       | 15       |\n",
       "| GP       | F        | 16       | U        | GT3      | T        | 3        | 3        | other    | other    | ...      | 4        | 3        | 2        | 1        | 2        | 5        |  4       |  6       | 10       | 10       |\n",
       "| GP       | M        | 16       | U        | LE3      | T        | 4        | 3        | services | other    | ...      | 5        | 4        | 2        | 1        | 2        | 5        | 10       | 15       | 15       | 15       |\n",
       "\n"
      ],
      "text/plain": [
       "  school sex age address famsize Pstatus Medu Fedu Mjob     Fjob     ... famrel\n",
       "1 GP     F   18  U       GT3     A       4    4    at_home  teacher  ... 4     \n",
       "2 GP     F   17  U       GT3     T       1    1    at_home  other    ... 5     \n",
       "3 GP     F   15  U       LE3     T       1    1    at_home  other    ... 4     \n",
       "4 GP     F   15  U       GT3     T       4    2    health   services ... 3     \n",
       "5 GP     F   16  U       GT3     T       3    3    other    other    ... 4     \n",
       "6 GP     M   16  U       LE3     T       4    3    services other    ... 5     \n",
       "  freetime goout Dalc Walc health absences G1 G2 G3\n",
       "1 3        4     1    1    3       6        5  6  6\n",
       "2 3        3     1    1    3       4        5  5  6\n",
       "3 3        2     2    3    3      10        7  8 10\n",
       "4 2        2     1    1    5       2       15 14 15\n",
       "5 3        2     1    2    5       4        6 10 10\n",
       "6 4        2     1    2    5      10       15 15 15"
      ]
     },
     "metadata": {},
     "output_type": "display_data"
    }
   ],
   "source": [
    "head(student)"
   ]
  },
  {
   "cell_type": "markdown",
   "metadata": {},
   "source": []
  },
  {
   "cell_type": "markdown",
   "metadata": {},
   "source": [
    "Summarization: which is the first step to explore the data before any analyzing process. Summary function in r used to give a summery for each column in the data set. Here is some column summary. "
   ]
  },
  {
   "cell_type": "code",
   "execution_count": 3,
   "metadata": {},
   "outputs": [
    {
     "data": {
      "text/plain": [
       " school   sex          age       address famsize   Pstatus      Medu      \n",
       " GP:349   F:208   Min.   :15.0   R: 88   GT3:281   A: 41   Min.   :0.000  \n",
       " MS: 46   M:187   1st Qu.:16.0   U:307   LE3:114   T:354   1st Qu.:2.000  \n",
       "                  Median :17.0                             Median :3.000  \n",
       "                  Mean   :16.7                             Mean   :2.749  \n",
       "                  3rd Qu.:18.0                             3rd Qu.:4.000  \n",
       "                  Max.   :22.0                             Max.   :4.000  \n",
       "      Fedu             Mjob           Fjob            reason      guardian  \n",
       " Min.   :0.000   at_home : 59   at_home : 20   course    :145   father: 90  \n",
       " 1st Qu.:2.000   health  : 34   health  : 18   home      :109   mother:273  \n",
       " Median :2.000   other   :141   other   :217   other     : 36   other : 32  \n",
       " Mean   :2.522   services:103   services:111   reputation:105               \n",
       " 3rd Qu.:3.000   teacher : 58   teacher : 29                                \n",
       " Max.   :4.000                                                              \n",
       "   traveltime      studytime        failures      schoolsup famsup     paid    \n",
       " Min.   :1.000   Min.   :1.000   Min.   :0.0000   no :344   no :153   no :214  \n",
       " 1st Qu.:1.000   1st Qu.:1.000   1st Qu.:0.0000   yes: 51   yes:242   yes:181  \n",
       " Median :1.000   Median :2.000   Median :0.0000                                \n",
       " Mean   :1.448   Mean   :2.035   Mean   :0.3342                                \n",
       " 3rd Qu.:2.000   3rd Qu.:2.000   3rd Qu.:0.0000                                \n",
       " Max.   :4.000   Max.   :4.000   Max.   :3.0000                                \n",
       " activities nursery   higher    internet  romantic      famrel     \n",
       " no :194    no : 81   no : 20   no : 66   no :263   Min.   :1.000  \n",
       " yes:201    yes:314   yes:375   yes:329   yes:132   1st Qu.:4.000  \n",
       "                                                    Median :4.000  \n",
       "                                                    Mean   :3.944  \n",
       "                                                    3rd Qu.:5.000  \n",
       "                                                    Max.   :5.000  \n",
       "    freetime         goout            Dalc            Walc      \n",
       " Min.   :1.000   Min.   :1.000   Min.   :1.000   Min.   :1.000  \n",
       " 1st Qu.:3.000   1st Qu.:2.000   1st Qu.:1.000   1st Qu.:1.000  \n",
       " Median :3.000   Median :3.000   Median :1.000   Median :2.000  \n",
       " Mean   :3.235   Mean   :3.109   Mean   :1.481   Mean   :2.291  \n",
       " 3rd Qu.:4.000   3rd Qu.:4.000   3rd Qu.:2.000   3rd Qu.:3.000  \n",
       " Max.   :5.000   Max.   :5.000   Max.   :5.000   Max.   :5.000  \n",
       "     health         absences            G1              G2       \n",
       " Min.   :1.000   Min.   : 0.000   Min.   : 3.00   Min.   : 0.00  \n",
       " 1st Qu.:3.000   1st Qu.: 0.000   1st Qu.: 8.00   1st Qu.: 9.00  \n",
       " Median :4.000   Median : 4.000   Median :11.00   Median :11.00  \n",
       " Mean   :3.554   Mean   : 5.709   Mean   :10.91   Mean   :10.71  \n",
       " 3rd Qu.:5.000   3rd Qu.: 8.000   3rd Qu.:13.00   3rd Qu.:13.00  \n",
       " Max.   :5.000   Max.   :75.000   Max.   :19.00   Max.   :19.00  \n",
       "       G3       \n",
       " Min.   : 0.00  \n",
       " 1st Qu.: 8.00  \n",
       " Median :11.00  \n",
       " Mean   :10.42  \n",
       " 3rd Qu.:14.00  \n",
       " Max.   :20.00  "
      ]
     },
     "metadata": {},
     "output_type": "display_data"
    }
   ],
   "source": [
    "summary(student)"
   ]
  },
  {
   "cell_type": "code",
   "execution_count": 4,
   "metadata": {},
   "outputs": [
    {
     "data": {
      "image/png": "[encoded data removed]",
      "text/plain": [
       "Plot with title \"Histogram for Age frequency of Students\""
      ]
     },
     "metadata": {},
     "output_type": "display_data"
    }
   ],
   "source": [
    "hist(student$age,main=\"Histogram for Age frequency of Students\", \n",
    "     xlab=\"Age\", \n",
    "     border=\"Black\", \n",
    "     col=\"Gray\")"
   ]
  },
  {
   "cell_type": "markdown",
   "metadata": {},
   "source": [
    "shows histogram of the age of students and the frequency of each age "
   ]
  },
  {
   "cell_type": "code",
   "execution_count": 5,
   "metadata": {},
   "outputs": [
    {
     "data": {
      "image/png": "[encoded data removed]",
      "text/plain": [
       "plot without title"
      ]
     },
     "metadata": {},
     "output_type": "display_data"
    }
   ],
   "source": [
    "boxplot(student$failures ~ student$G3, data=student) # G3 is the final grade\n",
    "newdata <- subset(student,  G3 %in%c(17:20),   #if u want the range will be put itin in\n",
    "                  select=c(G3, sex))"
   ]
  },
  {
   "cell_type": "code",
   "execution_count": 8,
   "metadata": {},
   "outputs": [
    {
     "data": {
      "text/html": [
       "-0.36041494046165"
      ],
      "text/latex": [
       "-0.36041494046165"
      ],
      "text/markdown": [
       "-0.36041494046165"
      ],
      "text/plain": [
       "[1] -0.3604149"
      ]
     },
     "metadata": {},
     "output_type": "display_data"
    }
   ],
   "source": [
    "cor(student$G3, student$failures)"
   ]
  },
  {
   "cell_type": "markdown",
   "metadata": {},
   "source": [
    "The boxplot and the negative value of correlation smeans there is an inverse relationship between two variables(failures and final grade) when one variable decreases, the other increases"
   ]
  },
  {
   "cell_type": "markdown",
   "metadata": {},
   "source": [
    "We can draw the relations also based on gender"
   ]
  },
  {
   "cell_type": "code",
   "execution_count": 11,
   "metadata": {},
   "outputs": [
    {
     "data": {
      "image/png": "[encoded data removed]",
      "text/plain": [
       "plot without title"
      ]
     },
     "metadata": {},
     "output_type": "display_data"
    }
   ],
   "source": [
    "student %>% ggplot(aes(x = failures, y =G3, label=sex\n",
    ")) +\n",
    "  geom_label(color=\"blue\")+\n",
    "\n",
    "ggtitle(\" student final grade and past class failures\")"
   ]
  },
  {
   "cell_type": "code",
   "execution_count": 12,
   "metadata": {},
   "outputs": [
    {
     "data": {
      "image/png": "[encoded data removed]",
      "text/plain": [
       "plot without title"
      ]
     },
     "metadata": {},
     "output_type": "display_data"
    }
   ],
   "source": [
    "student %>% ggplot(aes(x = sex, y =G3\n",
    ")) +\n",
    " geom_point()"
   ]
  },
  {
   "cell_type": "code",
   "execution_count": 13,
   "metadata": {},
   "outputs": [
    {
     "data": {
      "image/png": "[encoded data removed]",
      "text/plain": [
       "plot without title"
      ]
     },
     "metadata": {},
     "output_type": "display_data"
    }
   ],
   "source": [
    " student %>% filter( Fedu == \"4\" & sex == \"F\") %>%\n",
    "  ggplot(aes( G3, G1 )) +\n",
    "  geom_point()"
   ]
  },
  {
   "cell_type": "markdown",
   "metadata": {},
   "source": [
    "Let's see the realtion beteen workday alchol consumption affect student performance and final grade"
   ]
  },
  {
   "cell_type": "code",
   "execution_count": 14,
   "metadata": {},
   "outputs": [
    {
     "data": {
      "image/png": "[encoded data removed]",
      "text/plain": [
       "plot without title"
      ]
     },
     "metadata": {},
     "output_type": "display_data"
    }
   ],
   "source": [
    "student %>% filter( Pstatus ==\"T\" & famsup ==\"yes\" &\n",
    "    higher== \"yes\" & romantic == \"yes\" & famrel >=4  & Walc<=3) %>% #condition of students\n",
    "  ggplot(aes(Dalc,G3,color=sex))+geom_point()+ ggtitle(\"Plot of situation of students filterd by different condition\") +  #DAlc is workday alcohol consumption\n",
    "  xlab(\"workday alcohol consumption\") + ylab(\"final grade\")"
   ]
  },
  {
   "cell_type": "markdown",
   "metadata": {},
   "source": []
  },
  {
   "cell_type": "code",
   "execution_count": 16,
   "metadata": {},
   "outputs": [
    {
     "data": {
      "text/html": [
       "-0.0546600405667359"
      ],
      "text/latex": [
       "-0.0546600405667359"
      ],
      "text/markdown": [
       "-0.0546600405667359"
      ],
      "text/plain": [
       "[1] -0.05466004"
      ]
     },
     "metadata": {},
     "output_type": "display_data"
    }
   ],
   "source": [
    "cor(student$Dalc, student$G3)"
   ]
  },
  {
   "cell_type": "markdown",
   "metadata": {},
   "source": [
    "The plot and the negative value of correlation smeans there is a strong inverse relationship between two variables(failures and final grade) when one variable decreases, the other increases"
   ]
  }
 ],
 "metadata": {
  "kernelspec": {
   "display_name": "R",
   "language": "R",
   "name": "ir"
  },
  "language_info": {
   "codemirror_mode": "r",
   "file_extension": ".r",
   "mimetype": "text/x-r-source",
   "name": "R",
   "pygments_lexer": "r",
   "version": "3.6.1"
  }
 },
 "nbformat": 4,
 "nbformat_minor": 4
}
