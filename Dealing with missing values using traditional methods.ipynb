{
 "cells": [
  {
   "cell_type": "markdown",
   "metadata": {},
   "source": [
    "## Load Packages\n"
   ]
  },
  {
   "cell_type": "code",
   "execution_count": 40,
   "metadata": {},
   "outputs": [
    {
     "name": "stderr",
     "output_type": "stream",
     "text": [
      "Installing package into 'C:/Users/Samar/Documents/R/win-library/3.6'\n",
      "(as 'lib' is unspecified)\n",
      "Warning message:\n",
      "\"package 'simputation' is in use and will not be installed\""
     ]
    }
   ],
   "source": [
    "install.packages(\"simputation\") ## for imputed data\n",
    "library(simputation)            ## for dealing with missing values\n",
    "library(naniar)\n",
    "library(ggplot2)\n"
   ]
  },
  {
   "cell_type": "markdown",
   "metadata": {},
   "source": [
    "Let's see summary and structure of the oceanbuoys data set in naniar library"
   ]
  },
  {
   "cell_type": "code",
   "execution_count": 7,
   "metadata": {},
   "outputs": [
    {
     "name": "stdout",
     "output_type": "stream",
     "text": [
      "Classes 'tbl_df', 'tbl' and 'data.frame':\t736 obs. of  8 variables:\n",
      " $ year      : num  1997 1997 1997 1997 1997 ...\n",
      " $ latitude  : num  0 0 0 0 0 0 0 0 0 0 ...\n",
      " $ longitude : num  -110 -110 -110 -110 -110 -110 -110 -110 -110 -110 ...\n",
      " $ sea_temp_c: num  27.6 27.5 27.6 27.6 27.6 ...\n",
      " $ air_temp_c: num  27.1 27 27 26.9 26.8 ...\n",
      " $ humidity  : num  79.6 75.8 76.5 76.2 76.4 ...\n",
      " $ wind_ew   : num  -6.4 -5.3 -5.1 -4.9 -3.5 ...\n",
      " $ wind_ns   : num  5.4 5.3 4.5 2.5 4.1 ...\n"
     ]
    }
   ],
   "source": [
    "str(oceanbuoys)"
   ]
  },
  {
   "cell_type": "code",
   "execution_count": 5,
   "metadata": {},
   "outputs": [
    {
     "data": {
      "text/plain": [
       "      year         latitude        longitude        sea_temp_c   \n",
       " Min.   :1993   Min.   :-5.000   Min.   :-110.0   Min.   :21.60  \n",
       " 1st Qu.:1993   1st Qu.:-2.000   1st Qu.:-110.0   1st Qu.:23.50  \n",
       " Median :1995   Median :-1.000   Median :-102.5   Median :26.55  \n",
       " Mean   :1995   Mean   :-1.375   Mean   :-102.5   Mean   :25.86  \n",
       " 3rd Qu.:1997   3rd Qu.: 0.000   3rd Qu.: -95.0   3rd Qu.:28.21  \n",
       " Max.   :1997   Max.   : 0.000   Max.   : -95.0   Max.   :30.17  \n",
       "                                                  NA's   :3      \n",
       "   air_temp_c       humidity        wind_ew          wind_ns      \n",
       " Min.   :21.42   Min.   :71.60   Min.   :-8.100   Min.   :-6.200  \n",
       " 1st Qu.:23.26   1st Qu.:81.30   1st Qu.:-5.100   1st Qu.: 1.500  \n",
       " Median :24.52   Median :85.20   Median :-3.900   Median : 2.900  \n",
       " Mean   :25.03   Mean   :84.43   Mean   :-3.716   Mean   : 2.636  \n",
       " 3rd Qu.:27.08   3rd Qu.:88.10   3rd Qu.:-2.600   3rd Qu.: 4.100  \n",
       " Max.   :28.50   Max.   :94.80   Max.   : 4.300   Max.   : 7.300  \n",
       " NA's   :81      NA's   :93                                       "
      ]
     },
     "metadata": {},
     "output_type": "display_data"
    }
   ],
   "source": [
    "summary(oceanbuoys)"
   ]
  },
  {
   "cell_type": "code",
   "execution_count": 4,
   "metadata": {},
   "outputs": [
    {
     "data": {
      "text/html": [
       "<table>\n",
       "<thead><tr><th scope=col>year</th><th scope=col>latitude</th><th scope=col>longitude</th><th scope=col>sea_temp_c</th><th scope=col>air_temp_c</th><th scope=col>humidity</th><th scope=col>wind_ew</th><th scope=col>wind_ns</th></tr></thead>\n",
       "<tbody>\n",
       "\t<tr><td>1997 </td><td>0    </td><td>-110 </td><td>27.59</td><td>27.15</td><td>79.6 </td><td>-6.4 </td><td>5.4  </td></tr>\n",
       "\t<tr><td>1997 </td><td>0    </td><td>-110 </td><td>27.55</td><td>27.02</td><td>75.8 </td><td>-5.3 </td><td>5.3  </td></tr>\n",
       "\t<tr><td>1997 </td><td>0    </td><td>-110 </td><td>27.57</td><td>27.00</td><td>76.5 </td><td>-5.1 </td><td>4.5  </td></tr>\n",
       "\t<tr><td>1997 </td><td>0    </td><td>-110 </td><td>27.62</td><td>26.93</td><td>76.2 </td><td>-4.9 </td><td>2.5  </td></tr>\n",
       "\t<tr><td>1997 </td><td>0    </td><td>-110 </td><td>27.65</td><td>26.84</td><td>76.4 </td><td>-3.5 </td><td>4.1  </td></tr>\n",
       "\t<tr><td>1997 </td><td>0    </td><td>-110 </td><td>27.83</td><td>26.94</td><td>76.7 </td><td>-4.4 </td><td>1.6  </td></tr>\n",
       "</tbody>\n",
       "</table>\n"
      ],
      "text/latex": [
       "\\begin{tabular}{r|llllllll}\n",
       " year & latitude & longitude & sea\\_temp\\_c & air\\_temp\\_c & humidity & wind\\_ew & wind\\_ns\\\\\n",
       "\\hline\n",
       "\t 1997  & 0     & -110  & 27.59 & 27.15 & 79.6  & -6.4  & 5.4  \\\\\n",
       "\t 1997  & 0     & -110  & 27.55 & 27.02 & 75.8  & -5.3  & 5.3  \\\\\n",
       "\t 1997  & 0     & -110  & 27.57 & 27.00 & 76.5  & -5.1  & 4.5  \\\\\n",
       "\t 1997  & 0     & -110  & 27.62 & 26.93 & 76.2  & -4.9  & 2.5  \\\\\n",
       "\t 1997  & 0     & -110  & 27.65 & 26.84 & 76.4  & -3.5  & 4.1  \\\\\n",
       "\t 1997  & 0     & -110  & 27.83 & 26.94 & 76.7  & -4.4  & 1.6  \\\\\n",
       "\\end{tabular}\n"
      ],
      "text/markdown": [
       "\n",
       "| year | latitude | longitude | sea_temp_c | air_temp_c | humidity | wind_ew | wind_ns |\n",
       "|---|---|---|---|---|---|---|---|\n",
       "| 1997  | 0     | -110  | 27.59 | 27.15 | 79.6  | -6.4  | 5.4   |\n",
       "| 1997  | 0     | -110  | 27.55 | 27.02 | 75.8  | -5.3  | 5.3   |\n",
       "| 1997  | 0     | -110  | 27.57 | 27.00 | 76.5  | -5.1  | 4.5   |\n",
       "| 1997  | 0     | -110  | 27.62 | 26.93 | 76.2  | -4.9  | 2.5   |\n",
       "| 1997  | 0     | -110  | 27.65 | 26.84 | 76.4  | -3.5  | 4.1   |\n",
       "| 1997  | 0     | -110  | 27.83 | 26.94 | 76.7  | -4.4  | 1.6   |\n",
       "\n"
      ],
      "text/plain": [
       "  year latitude longitude sea_temp_c air_temp_c humidity wind_ew wind_ns\n",
       "1 1997 0        -110      27.59      27.15      79.6     -6.4    5.4    \n",
       "2 1997 0        -110      27.55      27.02      75.8     -5.3    5.3    \n",
       "3 1997 0        -110      27.57      27.00      76.5     -5.1    4.5    \n",
       "4 1997 0        -110      27.62      26.93      76.2     -4.9    2.5    \n",
       "5 1997 0        -110      27.65      26.84      76.4     -3.5    4.1    \n",
       "6 1997 0        -110      27.83      26.94      76.7     -4.4    1.6    "
      ]
     },
     "metadata": {},
     "output_type": "display_data"
    }
   ],
   "source": [
    "head(oceanbuoys)\n"
   ]
  },
  {
   "cell_type": "code",
   "execution_count": 10,
   "metadata": {},
   "outputs": [
    {
     "data": {
      "text/html": [
       "<ol class=list-inline>\n",
       "\t<li>'year'</li>\n",
       "\t<li>'latitude'</li>\n",
       "\t<li>'longitude'</li>\n",
       "\t<li>'sea_temp_c'</li>\n",
       "\t<li>'air_temp_c'</li>\n",
       "\t<li>'humidity'</li>\n",
       "\t<li>'wind_ew'</li>\n",
       "\t<li>'wind_ns'</li>\n",
       "</ol>\n"
      ],
      "text/latex": [
       "\\begin{enumerate*}\n",
       "\\item 'year'\n",
       "\\item 'latitude'\n",
       "\\item 'longitude'\n",
       "\\item 'sea\\_temp\\_c'\n",
       "\\item 'air\\_temp\\_c'\n",
       "\\item 'humidity'\n",
       "\\item 'wind\\_ew'\n",
       "\\item 'wind\\_ns'\n",
       "\\end{enumerate*}\n"
      ],
      "text/markdown": [
       "1. 'year'\n",
       "2. 'latitude'\n",
       "3. 'longitude'\n",
       "4. 'sea_temp_c'\n",
       "5. 'air_temp_c'\n",
       "6. 'humidity'\n",
       "7. 'wind_ew'\n",
       "8. 'wind_ns'\n",
       "\n",
       "\n"
      ],
      "text/plain": [
       "[1] \"year\"       \"latitude\"   \"longitude\"  \"sea_temp_c\" \"air_temp_c\"\n",
       "[6] \"humidity\"   \"wind_ew\"    \"wind_ns\"   "
      ]
     },
     "metadata": {},
     "output_type": "display_data"
    }
   ],
   "source": [
    "names(oceanbuoys)"
   ]
  },
  {
   "cell_type": "markdown",
   "metadata": {},
   "source": [
    "Now we will find number of missing data and visulaize them"
   ]
  },
  {
   "cell_type": "code",
   "execution_count": 8,
   "metadata": {},
   "outputs": [
    {
     "data": {
      "text/html": [
       "177"
      ],
      "text/latex": [
       "177"
      ],
      "text/markdown": [
       "177"
      ],
      "text/plain": [
       "[1] 177"
      ]
     },
     "metadata": {},
     "output_type": "display_data"
    }
   ],
   "source": [
    "n_miss(oceanbuoys)"
   ]
  },
  {
   "cell_type": "code",
   "execution_count": 9,
   "metadata": {},
   "outputs": [
    {
     "data": {
      "image/png": "[encoded data removed]",
      "text/plain": [
       "plot without title"
      ]
     },
     "metadata": {},
     "output_type": "display_data"
    }
   ],
   "source": [
    "vis_miss(oceanbuoys)"
   ]
  },
  {
   "cell_type": "markdown",
   "metadata": {},
   "source": [
    "It's clear from the figure that the bulk of missing values are in two varibles: air_temp_c and humidity"
   ]
  },
  {
   "cell_type": "markdown",
   "metadata": {},
   "source": [
    "### Tracking missing values"
   ]
  },
  {
   "cell_type": "markdown",
   "metadata": {},
   "source": [
    "We will usedifferent methods to impute the data and we will evalue each method"
   ]
  },
  {
   "cell_type": "markdown",
   "metadata": {},
   "source": [
    "#### Method one: Impute Below All method"
   ]
  },
  {
   "cell_type": "markdown",
   "metadata": {},
   "source": [
    "Impute below: which impute values below the range of the values of data"
   ]
  },
  {
   "cell_type": "code",
   "execution_count": 13,
   "metadata": {},
   "outputs": [],
   "source": [
    "ocean_below_method <- bind_shadow(oceanbuoys) %>% \n",
    "impute_below_all()%>%\n",
    "  add_label_shadow()"
   ]
  },
  {
   "cell_type": "markdown",
   "metadata": {},
   "source": [
    "Visualize the imputed values"
   ]
  },
  {
   "cell_type": "code",
   "execution_count": 16,
   "metadata": {},
   "outputs": [
    {
     "data": {
      "image/png": "[encoded data removed]",
      "text/plain": [
       "plot without title"
      ]
     },
     "metadata": {},
     "output_type": "display_data"
    }
   ],
   "source": [
    "ggplot(ocean_below_method,\n",
    "       aes(x = humidity, y = air_temp_c, color = any_missing)) + \n",
    "  geom_point()"
   ]
  },
  {
   "cell_type": "markdown",
   "metadata": {},
   "source": [
    "We can see from the plot that missing values is far from the real values"
   ]
  },
  {
   "cell_type": "markdown",
   "metadata": {},
   "source": [
    "Let’s see how it is the difference between the real and missing values of the varible air_temp_c"
   ]
  },
  {
   "cell_type": "code",
   "execution_count": 17,
   "metadata": {},
   "outputs": [
    {
     "data": {
      "image/png": "[encoded data removed]",
      "text/plain": [
       "plot without title"
      ]
     },
     "metadata": {},
     "output_type": "display_data"
    }
   ],
   "source": [
    "ggplot(ocean_below_method, \n",
    "       aes(x = air_temp_c_NA, y = air_temp_c)) + \n",
    "  geom_boxplot()"
   ]
  },
  {
   "cell_type": "markdown",
   "metadata": {},
   "source": [
    "#### Mehod 2: mean values"
   ]
  },
  {
   "cell_type": "code",
   "execution_count": 18,
   "metadata": {},
   "outputs": [],
   "source": [
    "ocean_mean_method <- bind_shadow(oceanbuoys) %>% \n",
    "  impute_mean_all() %>% \n",
    "  add_label_shadow()"
   ]
  },
  {
   "cell_type": "code",
   "execution_count": 19,
   "metadata": {},
   "outputs": [
    {
     "data": {
      "image/png": "[encoded data removed]",
      "text/plain": [
       "plot without title"
      ]
     },
     "metadata": {},
     "output_type": "display_data"
    }
   ],
   "source": [
    "ggplot(ocean_mean_method, \n",
    "       aes(x = humidity_NA, y = humidity)) + \n",
    "  geom_boxplot()"
   ]
  },
  {
   "cell_type": "markdown",
   "metadata": {},
   "source": [
    "#### Method three: Linear Regression Imputation"
   ]
  },
  {
   "cell_type": "code",
   "execution_count": 39,
   "metadata": {},
   "outputs": [],
   "source": [
    "ocean_linear_regression_method <- oceanbuoys %>% \n",
    "    bind_shadow() %>%\n",
    "    impute_lm(air_temp_c ~ wind_ew + wind_ns) %>% \n",
    "    impute_lm(humidity ~ wind_ew + wind_ns) %>%\n",
    "    add_label_shadow()\n"
   ]
  },
  {
   "cell_type": "markdown",
   "metadata": {},
   "source": [
    "Evaluate the method by plotting the imputed data"
   ]
  },
  {
   "cell_type": "code",
   "execution_count": 29,
   "metadata": {},
   "outputs": [
    {
     "data": {
      "image/png": "[encoded data removed]",
      "text/plain": [
       "plot without title"
      ]
     },
     "metadata": {},
     "output_type": "display_data"
    }
   ],
   "source": [
    "ggplot(ocean_linear_regression_method,\n",
    "       aes(x = humidity, y = air_temp_c, color = any_missing)) + \n",
    "  geom_point()"
   ]
  },
  {
   "cell_type": "markdown",
   "metadata": {},
   "source": [
    "We can see the difference between this method and pervious method. Here the imputed values are close to real values"
   ]
  },
  {
   "cell_type": "markdown",
   "metadata": {},
   "source": [
    "In this code we deal with missing values using various traditional methods, and we evaluate each value to see if the imputation is good or bad."
   ]
  }
 ],
 "metadata": {
  "kernelspec": {
   "display_name": "R",
   "language": "R",
   "name": "ir"
  },
  "language_info": {
   "codemirror_mode": "r",
   "file_extension": ".r",
   "mimetype": "text/x-r-source",
   "name": "R",
   "pygments_lexer": "r",
   "version": "3.6.1"
  }
 },
 "nbformat": 4,
 "nbformat_minor": 4
}
